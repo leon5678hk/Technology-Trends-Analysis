{
  "nbformat": 4,
  "nbformat_minor": 0,
  "metadata": {
    "colab": {
      "provenance": []
    },
    "kernelspec": {
      "name": "python3",
      "display_name": "Python 3"
    },
    "language_info": {
      "name": "python"
    }
  },
  "cells": [
    {
      "cell_type": "code",
      "execution_count": null,
      "metadata": {
        "colab": {
          "base_uri": "https://localhost:8080/"
        },
        "id": "n5SnLDyXG9-O",
        "outputId": "3d210110-4013-4647-e2a0-108c7c145c1e"
      },
      "outputs": [
        {
          "output_type": "stream",
          "name": "stdout",
          "text": [
            "   ResponseId   LanguageWantToWorkWith      DatabaseWantToWorkWith  \\\n",
            "0           2  Bash/Shell (all shells)                  PostgreSQL   \n",
            "1           2                       Go                        None   \n",
            "2           2                 HTML/CSS                        None   \n",
            "3           2                     Java                        None   \n",
            "4           2               JavaScript                        None   \n",
            "5           2                   Kotlin                        None   \n",
            "6           2                   Python                        None   \n",
            "7           2               TypeScript                        None   \n",
            "8           3                       C#  Firebase Realtime Database   \n",
            "9          10                 HTML/CSS                     MongoDB   \n",
            "\n",
            "      PlatformWantToWorkWith WebframeWantToWorkWith  \n",
            "0  Amazon Web Services (AWS)                Express  \n",
            "1                     Heroku                   Htmx  \n",
            "2                    Netlify                Node.js  \n",
            "3                       None                  React  \n",
            "4                       None                  Remix  \n",
            "5                       None                   None  \n",
            "6                       None                   None  \n",
            "7                       None                   None  \n",
            "8               Google Cloud           ASP.NET CORE  \n",
            "9  Amazon Web Services (AWS)                Express  \n"
          ]
        }
      ],
      "source": [
        "# Data Wrangling for Current Usage Dashboard\n",
        "\n",
        "import pandas as pd\n",
        "from itertools import zip_longest\n",
        "\n",
        "# Load CSV\n",
        "df = pd.read_csv(\"survey_data_updated 5.csv\")\n",
        "\n",
        "# Columns to explode\n",
        "cols = [\n",
        "    'LanguageHaveWorkedWith',\n",
        "    'DatabaseHaveWorkedWith',\n",
        "    'PlatformHaveWorkedWith',\n",
        "    'WebframeHaveWorkedWith'\n",
        "]\n",
        "\n",
        "# Keep ResponseId and the target columns\n",
        "df_subset = df[['ResponseId'] + cols].dropna(subset=['ResponseId'])\n",
        "\n",
        "# Cleaned rows will go here\n",
        "exploded_rows = []\n",
        "\n",
        "for _, row in df_subset.iterrows():\n",
        "    response_id = row['ResponseId']\n",
        "\n",
        "    # Split by ';' or return empty list\n",
        "    lang = str(row['LanguageHaveWorkedWith']).split(';') if pd.notna(row['LanguageHaveWorkedWith']) else []\n",
        "    db   = str(row['DatabaseHaveWorkedWith']).split(';') if pd.notna(row['DatabaseHaveWorkedWith']) else []\n",
        "    plat = str(row['PlatformHaveWorkedWith']).split(';') if pd.notna(row['PlatformHaveWorkedWith']) else []\n",
        "    web  = str(row['WebframeHaveWorkedWith']).split(';') if pd.notna(row['WebframeHaveWorkedWith']) else []\n",
        "\n",
        "    # Align all lists row-wise (like a zip with padding)\n",
        "    for l, d, p, w in zip_longest(lang, db, plat, web):\n",
        "        exploded_rows.append({\n",
        "            'ResponseId': response_id,\n",
        "            'LanguageHaveWorkedWith': l,\n",
        "            'DatabaseHaveWorkedWith': d,\n",
        "            'PlatformHaveWorkedWith': p,\n",
        "            'WebframeHaveWorkedWith': w\n",
        "        })\n",
        "\n",
        "# Convert to DataFrame\n",
        "aligned_df = pd.DataFrame(exploded_rows)\n",
        "\n",
        "# Save\n",
        "aligned_df.to_csv(\"Current_Usage.csv\", index=False)\n"
      ]
    },
    {
      "cell_type": "code",
      "source": [
        "# Data Wrangling for Future Trends Dashboard\n",
        "\n",
        "import pandas as pd\n",
        "from itertools import zip_longest\n",
        "\n",
        "# Load CSV\n",
        "df = pd.read_csv(\"survey_data_updated 5.csv\")\n",
        "\n",
        "# Columns to explode\n",
        "cols = [\n",
        "    'LanguageWantToWorkWith',\n",
        "    'DatabaseWantToWorkWith',\n",
        "    'PlatformWantToWorkWith',\n",
        "    'WebframeWantToWorkWith'\n",
        "]\n",
        "\n",
        "# Keep ResponseId and the target columns\n",
        "df_subset = df[['ResponseId'] + cols].dropna(subset=['ResponseId'])\n",
        "\n",
        "# Cleaned rows will go here\n",
        "exploded_rows = []\n",
        "\n",
        "for _, row in df_subset.iterrows():\n",
        "    response_id = row['ResponseId']\n",
        "\n",
        "    # Split by ';' or return empty list\n",
        "    lang = str(row['LanguageWantToWorkWith']).split(';') if pd.notna(row['LanguageWantToWorkWith']) else []\n",
        "    db   = str(row['DatabaseWantToWorkWith']).split(';') if pd.notna(row['DatabaseWantToWorkWith']) else []\n",
        "    plat = str(row['PlatformWantToWorkWith']).split(';') if pd.notna(row['PlatformWantToWorkWith']) else []\n",
        "    web  = str(row['WebframeWantToWorkWith']).split(';') if pd.notna(row['WebframeWantToWorkWith']) else []\n",
        "\n",
        "    # Align all lists row-wise (like a zip with padding)\n",
        "    for l, d, p, w in zip_longest(lang, db, plat, web):\n",
        "        exploded_rows.append({\n",
        "            'ResponseId': response_id,\n",
        "            'LanguageWantToWorkWith': l,\n",
        "            'DatabaseWantToWorkWith': d,\n",
        "            'PlatformWantToWorkWith': p,\n",
        "            'WebframeWantToWorkWith': w\n",
        "        })\n",
        "\n",
        "# Convert to DataFrame\n",
        "aligned_df = pd.DataFrame(exploded_rows)\n",
        "\n",
        "# Save\n",
        "aligned_df.to_csv(\"Future_Trends.csv\", index=False)\n"
      ],
      "metadata": {
        "id": "__0YUbzu9wZI"
      },
      "execution_count": null,
      "outputs": []
    },
    {
      "cell_type": "code",
      "source": [],
      "metadata": {
        "id": "MPAOqOzH905c"
      },
      "execution_count": null,
      "outputs": []
    },
    {
      "cell_type": "code",
      "source": [
        "# Check the specific row counts\n",
        "\n",
        "import pandas as pd\n",
        "\n",
        "# Load the CSV file\n",
        "df = pd.read_csv(\"survey_data_updated 5.csv\")  # replace with your actual path if different\n",
        "\n",
        "# Drop rows with missing LanguageHaveWorkedWith\n",
        "df = df.dropna(subset=[\"LanguageHaveWorkedWith\"])\n",
        "\n",
        "# Count how many respondents included JavaScript in the list\n",
        "count = df[\"LanguageHaveWorkedWith\"].apply(lambda x: \"JavaScript\" in x.split(\";\")).sum()\n",
        "\n",
        "print(f\"Number of respondents who have worked with JavaScript: {count}\")"
      ],
      "metadata": {
        "colab": {
          "base_uri": "https://localhost:8080/"
        },
        "id": "TbRFTGabQJov",
        "outputId": "286d1688-84e3-4381-9ffb-9090c84e9f7b"
      },
      "execution_count": null,
      "outputs": [
        {
          "output_type": "stream",
          "name": "stdout",
          "text": [
            "Number of respondents who have worked with JavaScript: 14943\n"
          ]
        }
      ]
    }
  ]
}